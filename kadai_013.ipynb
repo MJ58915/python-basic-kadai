{
  "nbformat": 4,
  "nbformat_minor": 0,
  "metadata": {
    "colab": {
      "provenance": [],
      "authorship_tag": "ABX9TyNTdnN0ptQV8BzgQznkTrVL",
      "include_colab_link": true
    },
    "kernelspec": {
      "name": "python3",
      "display_name": "Python 3"
    },
    "language_info": {
      "name": "python"
    }
  },
  "cells": [
    {
      "cell_type": "markdown",
      "metadata": {
        "id": "view-in-github",
        "colab_type": "text"
      },
      "source": [
        "<a href=\"https://colab.research.google.com/github/MJ58915/python-basic-kadai/blob/main/kadai_013.ipynb\" target=\"_parent\"><img src=\"https://colab.research.google.com/assets/colab-badge.svg\" alt=\"Open In Colab\"/></a>"
      ]
    },
    {
      "cell_type": "code",
      "execution_count": null,
      "metadata": {
        "id": "7hDa9orARIFd"
      },
      "outputs": [],
      "source": [
        "def calculate_total_price(product_price, tax_rate=0.1):\n",
        "\n",
        "    tax_amount = product_price * tax_rate\n",
        "    total_price = product_price + tax_amount\n",
        "\n",
        "    return total_price\n"
      ]
    }
  ]
}