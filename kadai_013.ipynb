{
  "nbformat": 4,
  "nbformat_minor": 0,
  "metadata": {
    "colab": {
      "provenance": [],
      "authorship_tag": "ABX9TyPJhbd8nbIDiT8BhlTmN34y",
      "include_colab_link": true
    },
    "kernelspec": {
      "name": "python3",
      "display_name": "Python 3"
    },
    "language_info": {
      "name": "python"
    }
  },
  "cells": [
    {
      "cell_type": "markdown",
      "metadata": {
        "id": "view-in-github",
        "colab_type": "text"
      },
      "source": [
        "<a href=\"https://colab.research.google.com/github/MJ58915/python-basic-kadai/blob/main/kadai_013.ipynb\" target=\"_parent\"><img src=\"https://colab.research.google.com/assets/colab-badge.svg\" alt=\"Open In Colab\"/></a>"
      ]
    },
    {
      "cell_type": "code",
      "execution_count": 5,
      "metadata": {
        "colab": {
          "base_uri": "https://localhost:8080/"
        },
        "id": "7hDa9orARIFd",
        "outputId": "131c56d5-83d0-4dd8-8b9a-8235a83258b4"
      },
      "outputs": [
        {
          "output_type": "stream",
          "name": "stdout",
          "text": [
            "合計価格： 1100.0\n"
          ]
        }
      ],
      "source": [
        "def calculate_total_price(product_price, tax_rate):\n",
        "\n",
        "    tax_amount = product_price * tax_rate\n",
        "    total_price = product_price + tax_amount\n",
        "\n",
        "    return total_price\n",
        "\n",
        "product_price = 1000\n",
        "custom_tax_rate = 0.10\n",
        "\n",
        "total_price = calculate_total_price(product_price, custom_tax_rate)\n",
        "\n",
        "print(\"合計価格：\", total_price)\n"
      ]
    }
  ]
}