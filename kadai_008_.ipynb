{
  "nbformat": 4,
  "nbformat_minor": 0,
  "metadata": {
    "colab": {
      "provenance": [],
      "authorship_tag": "ABX9TyPozM8WZn7C0p5ORhvAnTVq",
      "include_colab_link": true
    },
    "kernelspec": {
      "name": "python3",
      "display_name": "Python 3"
    },
    "language_info": {
      "name": "python"
    }
  },
  "cells": [
    {
      "cell_type": "markdown",
      "metadata": {
        "id": "view-in-github",
        "colab_type": "text"
      },
      "source": [
        "<a href=\"https://colab.research.google.com/github/MJ58915/python-basic-kadai/blob/main/kadai_008_.ipynb\" target=\"_parent\"><img src=\"https://colab.research.google.com/assets/colab-badge.svg\" alt=\"Open In Colab\"/></a>"
      ]
    },
    {
      "cell_type": "code",
      "execution_count": null,
      "metadata": {
        "colab": {
          "base_uri": "https://localhost:8080/"
        },
        "id": "A6kR7svevUy_",
        "outputId": "e63e1fc5-84db-494f-9f59-4559498a8533"
      },
      "outputs": [
        {
          "output_type": "stream",
          "name": "stdout",
          "text": [
            "63\n",
            "True\n"
          ]
        }
      ],
      "source": [
        "print(45 + 18) # 算術演算子を使った場合の戻り値を出力する\n",
        "print(45 > 18) # 比較演算子を使った場合の戻り値を出力する\n"
      ]
    },
    {
      "cell_type": "code",
      "source": [],
      "metadata": {
        "id": "PTkVO3ay8xyI"
      },
      "execution_count": null,
      "outputs": []
    },
    {
      "cell_type": "code",
      "source": [
        "print(\"5\" == 5)\n"
      ],
      "metadata": {
        "colab": {
          "base_uri": "https://localhost:8080/"
        },
        "id": "-4ndRKFU82-t",
        "outputId": "559658b7-8776-4032-94c1-11d6ae990702"
      },
      "execution_count": null,
      "outputs": [
        {
          "output_type": "stream",
          "name": "stdout",
          "text": [
            "False\n"
          ]
        }
      ]
    },
    {
      "cell_type": "code",
      "source": [
        "import random\n",
        "\n",
        "num = random.randint(0,4)\n",
        "\n",
        "print(num)\n",
        "\n",
        "if num == 4:\n",
        "   print(\"大当たりです\")"
      ],
      "metadata": {
        "colab": {
          "base_uri": "https://localhost:8080/"
        },
        "id": "qlHEEup39q6b",
        "outputId": "eb2ecc72-dcf5-4441-ca89-5d9524709d40"
      },
      "execution_count": null,
      "outputs": [
        {
          "output_type": "stream",
          "name": "stdout",
          "text": [
            "4\n",
            "大当たりです\n"
          ]
        }
      ]
    },
    {
      "cell_type": "code",
      "source": [
        "import random\n",
        "\n",
        "num = random.randint(0,4)\n",
        "\n",
        "print(num)\n",
        "\n",
        "if num == 4:\n",
        "   print(\"大当たりです\")\n",
        "else:\n",
        "    print(\"はずれです\")\n",
        "\n",
        "\n"
      ],
      "metadata": {
        "colab": {
          "base_uri": "https://localhost:8080/"
        },
        "id": "g238YSam-tuR",
        "outputId": "108f6df6-d402-42bf-cd01-d5a1ab3f664d"
      },
      "execution_count": null,
      "outputs": [
        {
          "output_type": "stream",
          "name": "stdout",
          "text": [
            "1\n",
            "はずれです\n"
          ]
        }
      ]
    },
    {
      "cell_type": "code",
      "source": [
        "import random\n",
        "\n",
        "num = random.randint(0,4)\n",
        "\n",
        "print(num)\n",
        "\n",
        "if num == 4:\n",
        "   print(\"大当たりです\")\n",
        "elif num == 3:\n",
        "    print(\"当たりです\")\n",
        "else:\n",
        "    print(\"はずれです\")"
      ],
      "metadata": {
        "colab": {
          "base_uri": "https://localhost:8080/"
        },
        "id": "oSLitY19-tv5",
        "outputId": "f7e25cd4-6818-4230-8bb0-a623121b9202"
      },
      "execution_count": null,
      "outputs": [
        {
          "output_type": "stream",
          "name": "stdout",
          "text": [
            "4\n",
            "大当たりです\n"
          ]
        }
      ]
    },
    {
      "cell_type": "code",
      "source": [
        "import random\n",
        "\n",
        "num = random.randint(0,4)\n",
        "\n",
        "print(num)\n",
        "\n",
        "if 1 < num and num < 3:\n",
        "    print(\"変数numは1より大きく、3より小さいです\")\n",
        "else:\n",
        "    print(\"and条件が成り立ちませんでした\")\n",
        "\n",
        "if num == 1 or num == 3:\n",
        "    print(\"変数numは1または3です\")\n",
        "else:\n",
        "    print(\"or条件が成り立ちませんでした\")"
      ],
      "metadata": {
        "colab": {
          "base_uri": "https://localhost:8080/"
        },
        "id": "MKb5gYGkApKH",
        "outputId": "af71a378-adda-4ab3-a882-7ffb3600655d"
      },
      "execution_count": null,
      "outputs": [
        {
          "output_type": "stream",
          "name": "stdout",
          "text": [
            "2\n",
            "変数numは1より大きく、3より小さいです\n",
            "or条件が成り立ちませんでした\n"
          ]
        }
      ]
    },
    {
      "cell_type": "code",
      "source": [
        "for var in range(16):\n",
        "    if var % 3 == 0 and var % 5 == 0:\n",
        "        print(\"FizzBuzz\")\n",
        "    elif var % 3 == 0:\n",
        "        print(\"Fizz\")\n",
        "    elif var % 5 == 0:\n",
        "        print(\"Buzz\")\n",
        "    else:\n",
        "        print(var)\n"
      ],
      "metadata": {
        "colab": {
          "base_uri": "https://localhost:8080/"
        },
        "id": "N9oueAxFJqWl",
        "outputId": "cfa7d4a2-0cd7-4a62-96e3-dfe2bdcc4362"
      },
      "execution_count": null,
      "outputs": [
        {
          "output_type": "stream",
          "name": "stdout",
          "text": [
            "FizzBuzz\n",
            "1\n",
            "2\n",
            "Fizz\n",
            "4\n",
            "Buzz\n",
            "Fizz\n",
            "7\n",
            "8\n",
            "Fizz\n",
            "Buzz\n",
            "11\n",
            "Fizz\n",
            "13\n",
            "14\n",
            "FizzBuzz\n"
          ]
        }
      ]
    }
  ]
}