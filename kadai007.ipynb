{
  "nbformat": 4,
  "nbformat_minor": 0,
  "metadata": {
    "colab": {
      "provenance": [],
      "authorship_tag": "ABX9TyOL+RpjkZdRCgFF8T3KMCOE",
      "include_colab_link": true
    },
    "kernelspec": {
      "name": "python3",
      "display_name": "Python 3"
    },
    "language_info": {
      "name": "python"
    }
  },
  "cells": [
    {
      "cell_type": "markdown",
      "metadata": {
        "id": "view-in-github",
        "colab_type": "text"
      },
      "source": [
        "<a href=\"https://colab.research.google.com/github/MJ58915/python-basic-kadai/blob/main/kadai007.ipynb\" target=\"_parent\"><img src=\"https://colab.research.google.com/assets/colab-badge.svg\" alt=\"Open In Colab\"/></a>"
      ]
    },
    {
      "cell_type": "code",
      "execution_count": null,
      "metadata": {
        "colab": {
          "base_uri": "https://localhost:8080/"
        },
        "id": "owR6Qr5ZNogF",
        "outputId": "a2755967-2d9c-42b0-c2b5-f6eebb6b9545"
      },
      "outputs": [
        {
          "output_type": "stream",
          "name": "stdout",
          "text": [
            "侍太郎\n",
            "{'name': '侍太郎', 'age': 36, 'gender': '男性'}\n",
            "{'name': '侍太郎', 'age': 37, 'gender': '男性', 'address': '東京都'}\n"
          ]
        }
      ],
      "source": [
        "personal_data = {\"name\":\"侍太郎\",\"age\": 36,\"gender\":\"男性\"}\n",
        "\n",
        "print(personal_data[\"name\"])\n",
        "\n",
        "print(personal_data)\n",
        "\n",
        "personal_data[\"age\"] = 37\n",
        "\n",
        "personal_data[\"address\"] = \"東京都\"\n",
        "\n",
        "print(personal_data)"
      ]
    },
    {
      "cell_type": "code",
      "source": [
        "list = [\"月曜日は晴れです\", \"火曜日は雨です\", \"水曜日は晴れです\", \"木曜日は晴れです\", \"金曜日は曇りです\", \"土曜日は曇りのち雨です\", \"日曜日は雷雨です\"]\n",
        "\n",
        "print(list[2])\n"
      ],
      "metadata": {
        "id": "aDRfHkILi6VU",
        "colab": {
          "base_uri": "https://localhost:8080/"
        },
        "outputId": "f42abdb6-aac1-4a99-cc9c-85cacb4bfb81"
      },
      "execution_count": null,
      "outputs": [
        {
          "output_type": "stream",
          "name": "stdout",
          "text": [
            "水曜日は晴れです\n"
          ]
        }
      ]
    },
    {
      "cell_type": "code",
      "source": [
        "dictionary = {\"mon\": \"晴れ\", \"tue\": \"雨\", \"wed\": \"晴れ\", \"thu\": \"晴れ\", \"fri\": \"曇り\", \"sat\": \"曇りのち雨\", \"sun\": \"雷雨\"}\n",
        "\n",
        "print(dictionary[\"wed\"])"
      ],
      "metadata": {
        "colab": {
          "base_uri": "https://localhost:8080/"
        },
        "id": "eNHeTtJwo_9u",
        "outputId": "d8e2fdc8-cb09-4be4-9177-6e4d0f293ba1"
      },
      "execution_count": null,
      "outputs": [
        {
          "output_type": "stream",
          "name": "stdout",
          "text": [
            "晴れ\n"
          ]
        }
      ]
    }
  ]
}