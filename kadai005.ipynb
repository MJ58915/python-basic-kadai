{
  "nbformat": 4,
  "nbformat_minor": 0,
  "metadata": {
    "colab": {
      "provenance": []
    },
    "kernelspec": {
      "name": "python3",
      "display_name": "Python 3"
    },
    "language_info": {
      "name": "python"
    }
  },
  "cells": [
    {
      "cell_type": "code",
      "execution_count": null,
      "metadata": {
        "id": "xecdbY_BkFkS",
        "colab": {
          "base_uri": "https://localhost:8080/"
        },
        "outputId": "a8476226-86a5-48e9-bd6a-0c25ee855c7a"
      },
      "outputs": [
        {
          "output_type": "stream",
          "name": "stdout",
          "text": [
            "75.0 cm²\n"
          ]
        }
      ],
      "source": [
        "# 上辺、下辺、高さの値\n",
        "上辺 = 10\n",
        "下辺 = 20\n",
        "高さ = 5\n",
        "\n",
        "# 台形の面積を計算する公式\n",
        "面積 = (上辺 + 下辺) * 高さ / 2\n",
        "\n",
        "# 結果を出力\n",
        "print(面積, \"cm²\")"
      ]
    },
    
      ]
    }
  ]
}
