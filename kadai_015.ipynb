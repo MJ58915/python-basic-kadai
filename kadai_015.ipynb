{
  "nbformat": 4,
  "nbformat_minor": 0,
  "metadata": {
    "colab": {
      "provenance": [],
      "authorship_tag": "ABX9TyOPDJ2rDgGRt89J0jlskNKc",
      "include_colab_link": true
    },
    "kernelspec": {
      "name": "python3",
      "display_name": "Python 3"
    },
    "language_info": {
      "name": "python"
    }
  },
  "cells": [
    {
      "cell_type": "markdown",
      "metadata": {
        "id": "view-in-github",
        "colab_type": "text"
      },
      "source": [
        "<a href=\"https://colab.research.google.com/github/MJ58915/python-basic-kadai/blob/main/kadai_015.ipynb\" target=\"_parent\"><img src=\"https://colab.research.google.com/assets/colab-badge.svg\" alt=\"Open In Colab\"/></a>"
      ]
    },
    {
      "cell_type": "code",
      "execution_count": 4,
      "metadata": {
        "colab": {
          "base_uri": "https://localhost:8080/"
        },
        "id": "mgNG-LOhA0OB",
        "outputId": "745bc23c-6a7e-4243-a0d8-782e7c22b66f"
      },
      "outputs": [
        {
          "output_type": "stream",
          "name": "stdout",
          "text": [
            "名前: 松本純\n",
            "年齢: 40\n"
          ]
        }
      ],
      "source": [
        "class Human:\n",
        "    def __init__(self, name, age):\n",
        "        self.name = name\n",
        "        self.age = age\n",
        "\n",
        "    def printinfo(self):\n",
        "        print(\"名前:\", self.name)\n",
        "        print(\"年齢:\", self.age)\n",
        "\n",
        "# Humanクラスのインスタンスを作成し、変数に代入\n",
        "human = Human(\"松本純\", 40)\n",
        "\n",
        "# printinfoメソッドを使用して名前と年齢を出力\n",
        "human.printinfo()\n"
      ]
    },
    {
      "cell_type": "code",
      "source": [],
      "metadata": {
        "id": "mLkN0Sg1NAxe"
      },
      "execution_count": null,
      "outputs": []
    }
  ]
}